{
  "nbformat": 4,
  "nbformat_minor": 0,
  "metadata": {
    "colab": {
      "provenance": [],
      "authorship_tag": "ABX9TyMppVj5K0sIqT9i+Z14zDj8",
      "include_colab_link": true
    },
    "kernelspec": {
      "name": "python3",
      "display_name": "Python 3"
    },
    "language_info": {
      "name": "python"
    }
  },
  "cells": [
    {
      "cell_type": "markdown",
      "metadata": {
        "id": "view-in-github",
        "colab_type": "text"
      },
      "source": [
        "<a href=\"https://colab.research.google.com/github/Pranav-Rayaprolu/Learning-Python/blob/main/NUMPY.ipynb\" target=\"_parent\"><img src=\"https://colab.research.google.com/assets/colab-badge.svg\" alt=\"Open In Colab\"/></a>"
      ]
    },
    {
      "cell_type": "code",
      "execution_count": null,
      "metadata": {
        "id": "WrNtcekVvQ3E"
      },
      "outputs": [],
      "source": [
        "import numpy as np"
      ]
    },
    {
      "cell_type": "markdown",
      "source": [
        "creating a dictionary"
      ],
      "metadata": {
        "id": "-ivqrn9ivq9X"
      }
    },
    {
      "cell_type": "code",
      "source": [
        "dict1={\"names\":['Pranav','Krishna','sharfa','Adnan','udita'],\"Marks\":[99,98,97,96,95],\"city\":[\"Vijayawada\",\"vza\",\"ckdj\",\"dfddf\",\"vellore\"]}\n",
        "print(dict1)"
      ],
      "metadata": {
        "id": "jVKZLGHMvcSl"
      },
      "execution_count": null,
      "outputs": []
    },
    {
      "cell_type": "markdown",
      "source": [
        "now creating a array using numpy"
      ],
      "metadata": {
        "id": "nojhQGWxyOGp"
      }
    },
    {
      "cell_type": "code",
      "source": [
        "Myarray = np.array([1,2,3],np.int8)\n",
        "print(Myarray)"
      ],
      "metadata": {
        "id": "_sEvdNp911G6"
      },
      "execution_count": null,
      "outputs": []
    },
    {
      "cell_type": "markdown",
      "source": [
        "here the number after int represents the number of bits if given number is represented in the power of two"
      ],
      "metadata": {
        "id": "X9OArjy-19-r"
      }
    },
    {
      "cell_type": "code",
      "source": [
        "Myarray"
      ],
      "metadata": {
        "id": "C5QHOnWo12XG"
      },
      "execution_count": null,
      "outputs": []
    },
    {
      "cell_type": "markdown",
      "source": [
        "Two D array"
      ],
      "metadata": {
        "id": "qF7ckXml2U_8"
      }
    },
    {
      "cell_type": "code",
      "source": [
        "My2darray= np.array([[1,2,3],])\n",
        "My2darray"
      ],
      "metadata": {
        "id": "bH3PHqv914lP"
      },
      "execution_count": null,
      "outputs": []
    },
    {
      "cell_type": "code",
      "source": [
        "from re import M\n",
        "print(My2darray[0,2])\n",
        "My2darray[0,1]=25\n",
        "My2darray"
      ],
      "metadata": {
        "id": "82oZCic72fjL"
      },
      "execution_count": null,
      "outputs": []
    },
    {
      "cell_type": "code",
      "source": [
        "My2darray.shape #this function provides the size of the 2d array"
      ],
      "metadata": {
        "id": "eavuFHNW2lQn"
      },
      "execution_count": null,
      "outputs": []
    },
    {
      "cell_type": "code",
      "source": [
        "My2darray.dtype #this function gives the data type of the given array\n",
        "#Use hash in text cell to create a heading"
      ],
      "metadata": {
        "id": "ajgMx9AG24EZ"
      },
      "execution_count": null,
      "outputs": []
    },
    {
      "cell_type": "markdown",
      "source": [
        "**Numpy Array creation Methods**"
      ],
      "metadata": {
        "id": "lVT5JM9t37EU"
      }
    },
    {
      "cell_type": "markdown",
      "source": [
        "#Conversion from other Python structures\n"
      ],
      "metadata": {
        "id": "jOV7HXLr5CZS"
      }
    },
    {
      "cell_type": "code",
      "source": [
        "listarray = np.array([[1,2,3],[4,5,6],[7,8,9]])\n",
        "print(listarray)\n",
        "print(listarray.dtype)\n",
        "print(listarray.shape)\n",
        "print(listarray.size)"
      ],
      "metadata": {
        "id": "mEqN1Max4gLz"
      },
      "execution_count": null,
      "outputs": []
    },
    {
      "cell_type": "markdown",
      "source": [
        "#Intrinsic NumPy array creation functions (e.g. arange, ones, zeros, etc.)"
      ],
      "metadata": {
        "id": "Uc5okkPa6UfH"
      }
    },
    {
      "cell_type": "code",
      "source": [
        "zeros = np.zeros((2,5))\n",
        "print(zeros)#this creates an array of zeros with the given size\n",
        "print(zeros.dtype)\n",
        "print(zeros.shape)\n",
        "print(zeros.size)"
      ],
      "metadata": {
        "id": "8nPkSPGH5jsM"
      },
      "execution_count": null,
      "outputs": []
    },
    {
      "cell_type": "code",
      "source": [
        "range = np.arange(15)#this is just like the range function in python\n",
        "print(range)#creates a array of numbers fro 0 to n-1"
      ],
      "metadata": {
        "id": "umFAt7fz6feH"
      },
      "execution_count": null,
      "outputs": []
    },
    {
      "cell_type": "code",
      "source": [
        "lspace = np.linspace(1,5,12)\n",
        "print(lspace)#this provides 12 numbers from the 1 to 5 both included"
      ],
      "metadata": {
        "id": "RwkPIilg7VmH"
      },
      "execution_count": null,
      "outputs": []
    },
    {
      "cell_type": "code",
      "source": [
        "ep = np.empty((4,6))\n",
        "print(ep) #creates an array of given size with random elements"
      ],
      "metadata": {
        "id": "1jTdO0pk7pFX"
      },
      "execution_count": null,
      "outputs": []
    },
    {
      "cell_type": "code",
      "source": [
        "eplike = np.empty_like(lspace)#we need to give any array as an input\n",
        "print(eplike) #this methods creates an empty array of the size of given array which is lspace here"
      ],
      "metadata": {
        "id": "EmT4kD308VFC"
      },
      "execution_count": null,
      "outputs": []
    },
    {
      "cell_type": "code",
      "source": [
        "npid = np.identity(45)\n",
        "print(npid) #this creates an identity matrix array of given size"
      ],
      "metadata": {
        "id": "IcsU7AZ_9H8z"
      },
      "execution_count": null,
      "outputs": []
    },
    {
      "cell_type": "markdown",
      "source": [
        "#reshaping an array"
      ],
      "metadata": {
        "id": "Z89ZBm6C-C5h"
      }
    },
    {
      "cell_type": "code",
      "source": [
        "arr = np.arange(99)\n",
        "print(arr)\n",
        "#this creates an array of 99 elements of order (1,99)\n",
        "#here the product of no of rows and columns whcih is the order is 99\n",
        "# inorder to reshap an array we should maintain the product of rows and columns same\n",
        "print(arr.reshape(3,33))#This works since 3*33 = 99\n",
        "print(arr.reshape(2,33))#This dont work since 2*33!=99\n"
      ],
      "metadata": {
        "id": "YslbkPJs9qo0"
      },
      "execution_count": null,
      "outputs": []
    },
    {
      "cell_type": "code",
      "source": [
        "arr.ravel() #this converts arr into one d array"
      ],
      "metadata": {
        "id": "xWljsXRv-_6b"
      },
      "execution_count": null,
      "outputs": []
    },
    {
      "cell_type": "markdown",
      "source": [
        "#Numpy Axis\n",
        "It is just like x and y axis in the cartesian coordinate system"
      ],
      "metadata": {
        "id": "m8NgcA0o_xre"
      }
    },
    {
      "cell_type": "code",
      "source": [
        "x = np.array([[1,2,3],[4,5,6],[7,8,9]])\n",
        "print(x)\n",
        "#This basically gives the sum of the columns in the given 2d array\n",
        "print(x.sum(axis=0))\n",
        "#This basically gives the sum of the rows in the given 2d array\n",
        "print(x.sum(axis=1))"
      ],
      "metadata": {
        "id": "p2mFNAIyA9th"
      },
      "execution_count": null,
      "outputs": []
    },
    {
      "cell_type": "markdown",
      "source": [
        "#Numpy Attributes\n",
        "these things dont have parenthesis at the end as functions do and also do not change the original array but creates new one"
      ],
      "metadata": {
        "id": "azoslIHiCogT"
      }
    },
    {
      "cell_type": "markdown",
      "source": [
        "Transpose of the matrix"
      ],
      "metadata": {
        "id": "2yELAwORBiGC"
      }
    },
    {
      "cell_type": "code",
      "source": [
        "print(x.T) #this do not change the original array"
      ],
      "metadata": {
        "id": "fy93DmBIBr2x"
      },
      "execution_count": null,
      "outputs": []
    },
    {
      "cell_type": "code",
      "source": [
        "print(x.flat) #this method is used for iteration purposes mainly in for loop"
      ],
      "metadata": {
        "id": "KpOPKNSABwTq"
      },
      "execution_count": null,
      "outputs": []
    },
    {
      "cell_type": "code",
      "source": [
        "for i in x.flat:\n",
        "  print(i)"
      ],
      "metadata": {
        "id": "GvQll1vdCBo9"
      },
      "execution_count": null,
      "outputs": []
    },
    {
      "cell_type": "code",
      "source": [
        "print(x.ndim)# It gives the number of dimensions of the given array"
      ],
      "metadata": {
        "id": "CgYwDC54CLgp"
      },
      "execution_count": null,
      "outputs": []
    },
    {
      "cell_type": "code",
      "source": [
        "print(x.size) #Gives the size of the array"
      ],
      "metadata": {
        "id": "9TT8UaYRCeLf"
      },
      "execution_count": null,
      "outputs": []
    },
    {
      "cell_type": "code",
      "source": [
        "print(x.nbytes) #number of bytes consumed by the elements in the array"
      ],
      "metadata": {
        "id": "bTG75kbkCkVC"
      },
      "execution_count": null,
      "outputs": []
    },
    {
      "cell_type": "markdown",
      "source": [
        "#NUMPY Methods:"
      ],
      "metadata": {
        "id": "W9uRwTPRDaCA"
      }
    },
    {
      "cell_type": "code",
      "source": [
        "one = np.arange(10)\n",
        "print(one.argmax()) #Returns the index of the maximum element\n",
        "print(one.argmin())\n",
        "print(one.argsort())#Return the respective indices of the elements in the given array as per sorted array\n",
        "                    #That means if we could give index we could get a sorted array\n",
        "a = np.array([19,45,34,23,67,29])\n",
        "print(a[a.argsort()])"
      ],
      "metadata": {
        "id": "4o1qIj3MDfAf",
        "colab": {
          "base_uri": "https://localhost:8080/"
        },
        "outputId": "5634371f-0964-4608-febd-4a0cc09b85d7"
      },
      "execution_count": 62,
      "outputs": [
        {
          "output_type": "stream",
          "name": "stdout",
          "text": [
            "9\n",
            "0\n",
            "[0 1 2 3 4 5 6 7 8 9]\n",
            "[19 23 29 34 45 67]\n"
          ]
        }
      ]
    }
  ]
}